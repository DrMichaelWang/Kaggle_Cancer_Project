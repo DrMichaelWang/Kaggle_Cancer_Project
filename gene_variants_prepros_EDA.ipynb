{
 "cells": [
  {
   "cell_type": "code",
   "execution_count": 1,
   "metadata": {
    "collapsed": true
   },
   "outputs": [],
   "source": [
    "import pandas as pd\n",
    "import nltk\n",
    "import numpy as np\n",
    "from sklearn.feature_extraction.text import TfidfVectorizer, CountVectorizer, TfidfTransformer\n",
    "import seaborn as sns\n",
    "import matplotlib as plt"
   ]
  },
  {
   "cell_type": "markdown",
   "metadata": {},
   "source": [
    "### graphing settings"
   ]
  },
  {
   "cell_type": "code",
   "execution_count": 2,
   "metadata": {
    "collapsed": true
   },
   "outputs": [],
   "source": [
    "%matplotlib inline\n",
    "sns.plotting_context('poster')\n",
    "sns.set_style('whitegrid')"
   ]
  },
  {
   "cell_type": "markdown",
   "metadata": {},
   "source": [
    "# Data setup"
   ]
  },
  {
   "cell_type": "markdown",
   "metadata": {},
   "source": [
    "### read data"
   ]
  },
  {
   "cell_type": "code",
   "execution_count": 3,
   "metadata": {
    "collapsed": true
   },
   "outputs": [],
   "source": [
    "train_v = pd.read_csv('/home/bunge/bguerra/Desktop/git/cdips/training_variants/training_variants')"
   ]
  },
  {
   "cell_type": "code",
   "execution_count": 4,
   "metadata": {},
   "outputs": [
    {
     "data": {
      "text/html": [
       "<div>\n",
       "<style>\n",
       "    .dataframe thead tr:only-child th {\n",
       "        text-align: right;\n",
       "    }\n",
       "\n",
       "    .dataframe thead th {\n",
       "        text-align: left;\n",
       "    }\n",
       "\n",
       "    .dataframe tbody tr th {\n",
       "        vertical-align: top;\n",
       "    }\n",
       "</style>\n",
       "<table border=\"1\" class=\"dataframe\">\n",
       "  <thead>\n",
       "    <tr style=\"text-align: right;\">\n",
       "      <th></th>\n",
       "      <th>ID</th>\n",
       "      <th>Gene</th>\n",
       "      <th>Variation</th>\n",
       "      <th>Class</th>\n",
       "    </tr>\n",
       "  </thead>\n",
       "  <tbody>\n",
       "    <tr>\n",
       "      <th>0</th>\n",
       "      <td>0</td>\n",
       "      <td>FAM58A</td>\n",
       "      <td>Truncating Mutations</td>\n",
       "      <td>1</td>\n",
       "    </tr>\n",
       "    <tr>\n",
       "      <th>1</th>\n",
       "      <td>1</td>\n",
       "      <td>CBL</td>\n",
       "      <td>W802*</td>\n",
       "      <td>2</td>\n",
       "    </tr>\n",
       "    <tr>\n",
       "      <th>2</th>\n",
       "      <td>2</td>\n",
       "      <td>CBL</td>\n",
       "      <td>Q249E</td>\n",
       "      <td>2</td>\n",
       "    </tr>\n",
       "    <tr>\n",
       "      <th>3</th>\n",
       "      <td>3</td>\n",
       "      <td>CBL</td>\n",
       "      <td>N454D</td>\n",
       "      <td>3</td>\n",
       "    </tr>\n",
       "    <tr>\n",
       "      <th>4</th>\n",
       "      <td>4</td>\n",
       "      <td>CBL</td>\n",
       "      <td>L399V</td>\n",
       "      <td>4</td>\n",
       "    </tr>\n",
       "  </tbody>\n",
       "</table>\n",
       "</div>"
      ],
      "text/plain": [
       "   ID    Gene             Variation  Class\n",
       "0   0  FAM58A  Truncating Mutations      1\n",
       "1   1     CBL                 W802*      2\n",
       "2   2     CBL                 Q249E      2\n",
       "3   3     CBL                 N454D      3\n",
       "4   4     CBL                 L399V      4"
      ]
     },
     "execution_count": 4,
     "metadata": {},
     "output_type": "execute_result"
    }
   ],
   "source": [
    "train_v.head()"
   ]
  },
  {
   "cell_type": "code",
   "execution_count": 5,
   "metadata": {
    "collapsed": true
   },
   "outputs": [],
   "source": [
    "train_t = pd.read_csv('/home/bunge/bguerra/Desktop/git/cdips/training_text/training_text', sep='\\|\\|',skiprows=1, engine='python', names=[\"ID\",\"Text\"])"
   ]
  },
  {
   "cell_type": "code",
   "execution_count": 6,
   "metadata": {},
   "outputs": [
    {
     "data": {
      "text/html": [
       "<div>\n",
       "<style>\n",
       "    .dataframe thead tr:only-child th {\n",
       "        text-align: right;\n",
       "    }\n",
       "\n",
       "    .dataframe thead th {\n",
       "        text-align: left;\n",
       "    }\n",
       "\n",
       "    .dataframe tbody tr th {\n",
       "        vertical-align: top;\n",
       "    }\n",
       "</style>\n",
       "<table border=\"1\" class=\"dataframe\">\n",
       "  <thead>\n",
       "    <tr style=\"text-align: right;\">\n",
       "      <th></th>\n",
       "      <th>ID</th>\n",
       "      <th>Text</th>\n",
       "    </tr>\n",
       "  </thead>\n",
       "  <tbody>\n",
       "    <tr>\n",
       "      <th>0</th>\n",
       "      <td>0</td>\n",
       "      <td>Cyclin-dependent kinases (CDKs) regulate a var...</td>\n",
       "    </tr>\n",
       "    <tr>\n",
       "      <th>1</th>\n",
       "      <td>1</td>\n",
       "      <td>Abstract Background  Non-small cell lung canc...</td>\n",
       "    </tr>\n",
       "    <tr>\n",
       "      <th>2</th>\n",
       "      <td>2</td>\n",
       "      <td>Abstract Background  Non-small cell lung canc...</td>\n",
       "    </tr>\n",
       "    <tr>\n",
       "      <th>3</th>\n",
       "      <td>3</td>\n",
       "      <td>Recent evidence has demonstrated that acquired...</td>\n",
       "    </tr>\n",
       "    <tr>\n",
       "      <th>4</th>\n",
       "      <td>4</td>\n",
       "      <td>Oncogenic mutations in the monomeric Casitas B...</td>\n",
       "    </tr>\n",
       "  </tbody>\n",
       "</table>\n",
       "</div>"
      ],
      "text/plain": [
       "   ID                                               Text\n",
       "0   0  Cyclin-dependent kinases (CDKs) regulate a var...\n",
       "1   1   Abstract Background  Non-small cell lung canc...\n",
       "2   2   Abstract Background  Non-small cell lung canc...\n",
       "3   3  Recent evidence has demonstrated that acquired...\n",
       "4   4  Oncogenic mutations in the monomeric Casitas B..."
      ]
     },
     "execution_count": 6,
     "metadata": {},
     "output_type": "execute_result"
    }
   ],
   "source": [
    "train_t.head()"
   ]
  },
  {
   "cell_type": "code",
   "execution_count": 7,
   "metadata": {
    "collapsed": true
   },
   "outputs": [],
   "source": [
    "train = train_v.merge(train_t, how=\"inner\", left_on=\"ID\", right_on=\"ID\")"
   ]
  },
  {
   "cell_type": "code",
   "execution_count": 8,
   "metadata": {},
   "outputs": [
    {
     "data": {
      "text/html": [
       "<div>\n",
       "<style>\n",
       "    .dataframe thead tr:only-child th {\n",
       "        text-align: right;\n",
       "    }\n",
       "\n",
       "    .dataframe thead th {\n",
       "        text-align: left;\n",
       "    }\n",
       "\n",
       "    .dataframe tbody tr th {\n",
       "        vertical-align: top;\n",
       "    }\n",
       "</style>\n",
       "<table border=\"1\" class=\"dataframe\">\n",
       "  <thead>\n",
       "    <tr style=\"text-align: right;\">\n",
       "      <th></th>\n",
       "      <th>ID</th>\n",
       "      <th>Gene</th>\n",
       "      <th>Variation</th>\n",
       "      <th>Class</th>\n",
       "      <th>Text</th>\n",
       "    </tr>\n",
       "  </thead>\n",
       "  <tbody>\n",
       "    <tr>\n",
       "      <th>0</th>\n",
       "      <td>0</td>\n",
       "      <td>FAM58A</td>\n",
       "      <td>Truncating Mutations</td>\n",
       "      <td>1</td>\n",
       "      <td>Cyclin-dependent kinases (CDKs) regulate a var...</td>\n",
       "    </tr>\n",
       "    <tr>\n",
       "      <th>1</th>\n",
       "      <td>1</td>\n",
       "      <td>CBL</td>\n",
       "      <td>W802*</td>\n",
       "      <td>2</td>\n",
       "      <td>Abstract Background  Non-small cell lung canc...</td>\n",
       "    </tr>\n",
       "    <tr>\n",
       "      <th>2</th>\n",
       "      <td>2</td>\n",
       "      <td>CBL</td>\n",
       "      <td>Q249E</td>\n",
       "      <td>2</td>\n",
       "      <td>Abstract Background  Non-small cell lung canc...</td>\n",
       "    </tr>\n",
       "    <tr>\n",
       "      <th>3</th>\n",
       "      <td>3</td>\n",
       "      <td>CBL</td>\n",
       "      <td>N454D</td>\n",
       "      <td>3</td>\n",
       "      <td>Recent evidence has demonstrated that acquired...</td>\n",
       "    </tr>\n",
       "    <tr>\n",
       "      <th>4</th>\n",
       "      <td>4</td>\n",
       "      <td>CBL</td>\n",
       "      <td>L399V</td>\n",
       "      <td>4</td>\n",
       "      <td>Oncogenic mutations in the monomeric Casitas B...</td>\n",
       "    </tr>\n",
       "  </tbody>\n",
       "</table>\n",
       "</div>"
      ],
      "text/plain": [
       "   ID    Gene             Variation  Class  \\\n",
       "0   0  FAM58A  Truncating Mutations      1   \n",
       "1   1     CBL                 W802*      2   \n",
       "2   2     CBL                 Q249E      2   \n",
       "3   3     CBL                 N454D      3   \n",
       "4   4     CBL                 L399V      4   \n",
       "\n",
       "                                                Text  \n",
       "0  Cyclin-dependent kinases (CDKs) regulate a var...  \n",
       "1   Abstract Background  Non-small cell lung canc...  \n",
       "2   Abstract Background  Non-small cell lung canc...  \n",
       "3  Recent evidence has demonstrated that acquired...  \n",
       "4  Oncogenic mutations in the monomeric Casitas B...  "
      ]
     },
     "execution_count": 8,
     "metadata": {},
     "output_type": "execute_result"
    }
   ],
   "source": [
    "train.head()"
   ]
  },
  {
   "cell_type": "markdown",
   "metadata": {},
   "source": [
    "#### quick look at the class frequencies"
   ]
  },
  {
   "cell_type": "code",
   "execution_count": 10,
   "metadata": {},
   "outputs": [
    {
     "data": {
      "image/png": "[encoded data removed]",
      "text/plain": [
       "<matplotlib.figure.Figure at 0x7f0c9d08c2b0>"
      ]
     },
     "metadata": {},
     "output_type": "display_data"
    }
   ],
   "source": [
    "train['Class'].plot.hist();"
   ]
  },
  {
   "cell_type": "markdown",
   "metadata": {},
   "source": [
    "### word counts in the text entries\n",
    "just for now, a crude measure of how gene/variants relate to the text entries"
   ]
  },
  {
   "cell_type": "code",
   "execution_count": 11,
   "metadata": {
    "collapsed": true
   },
   "outputs": [],
   "source": [
    "train.loc[:, 'Word_count']  = train[\"Text\"].apply(lambda x: len(x.split()))"
   ]
  },
  {
   "cell_type": "markdown",
   "metadata": {},
   "source": [
    "FYI there's some repeated text entries'"
   ]
  },
  {
   "cell_type": "code",
   "execution_count": 12,
   "metadata": {},
   "outputs": [
    {
     "data": {
      "text/plain": [
       "1400"
      ]
     },
     "execution_count": 12,
     "metadata": {},
     "output_type": "execute_result"
    }
   ],
   "source": [
    "len(train['Text']) - len(train['Text'].unique())"
   ]
  },
  {
   "cell_type": "code",
   "execution_count": 13,
   "metadata": {},
   "outputs": [
    {
     "data": {
      "image/png": "[encoded data removed]",
      "text/plain": [
       "<matplotlib.figure.Figure at 0x7f0c9ab30748>"
      ]
     },
     "metadata": {},
     "output_type": "display_data"
    }
   ],
   "source": [
    "sns.barplot(data=train, x='Class', y='Word_count');"
   ]
  },
  {
   "cell_type": "markdown",
   "metadata": {},
   "source": [
    "# Variants"
   ]
  },
  {
   "cell_type": "markdown",
   "metadata": {},
   "source": [
    "## recode variations\n",
    "Classifies variations into common types and standardizes their name. The order of commands in the fuc matters because deletions & insertions can happen simulteneously but coding is inconsistent. \n",
    "Testing: func is coding variations accurately. We might want to change the Fussion expression (\"fs\") because it could be problematic with new data, but hacky version works for now."
   ]
  },
  {
   "cell_type": "code",
   "execution_count": 199,
   "metadata": {
    "collapsed": true
   },
   "outputs": [],
   "source": [
    "def var_recode(data, colname):\n",
    "    recoded_colname = colname + '_recoded'\n",
    "    #recode substitutions\n",
    "    data[recoded_colname] = data[colname].str.replace('^[A-Z]\\d+[A-Z\\*]$|^(null)\\d+[A-Z\\*]$', 'Substitution')\n",
    "    #recode deletions\n",
    "    data.loc[data[colname].str.contains('del|silencing|hypermethylation', case=False), recoded_colname] = 'Deletion'\n",
    "    #recode insertions\n",
    "    data.loc[data[colname].str.contains('ins', case=False) , recoded_colname] = 'Insertion'\n",
    "    #recode deletions/insertions\n",
    "    data.loc[(data[colname].str.contains('del', case=False) & \n",
    "              data[colname].str.contains('ins', case=False)), recoded_colname] = 'InDel'\n",
    "    #recode truncations\n",
    "    data.loc[data[colname].str.contains('trunc', case=False), recoded_colname] = 'Truncation'\n",
    "    #recode duplications\n",
    "    data.loc[data[colname].str.contains('dup', case=False) , recoded_colname] = 'Duplication'\n",
    "    #recode fusions \n",
    "    data.loc[data[colname].str.contains('fusion|fs', case=False), recoded_colname] = 'Fusion'"
   ]
  },
  {
   "cell_type": "code",
   "execution_count": 15,
   "metadata": {
    "collapsed": true
   },
   "outputs": [],
   "source": [
    "var_recode(train, 'Variation')"
   ]
  },
  {
   "cell_type": "code",
   "execution_count": 16,
   "metadata": {},
   "outputs": [
    {
     "data": {
      "text/html": [
       "<div>\n",
       "<style>\n",
       "    .dataframe thead tr:only-child th {\n",
       "        text-align: right;\n",
       "    }\n",
       "\n",
       "    .dataframe thead th {\n",
       "        text-align: left;\n",
       "    }\n",
       "\n",
       "    .dataframe tbody tr th {\n",
       "        vertical-align: top;\n",
       "    }\n",
       "</style>\n",
       "<table border=\"1\" class=\"dataframe\">\n",
       "  <thead>\n",
       "    <tr style=\"text-align: right;\">\n",
       "      <th></th>\n",
       "      <th>ID</th>\n",
       "      <th>Gene</th>\n",
       "      <th>Variation</th>\n",
       "      <th>Class</th>\n",
       "      <th>Text</th>\n",
       "      <th>Word_count</th>\n",
       "      <th>Variation_recoded</th>\n",
       "    </tr>\n",
       "  </thead>\n",
       "  <tbody>\n",
       "    <tr>\n",
       "      <th>0</th>\n",
       "      <td>0</td>\n",
       "      <td>FAM58A</td>\n",
       "      <td>Truncating Mutations</td>\n",
       "      <td>1</td>\n",
       "      <td>Cyclin-dependent kinases (CDKs) regulate a var...</td>\n",
       "      <td>6089</td>\n",
       "      <td>Truncation</td>\n",
       "    </tr>\n",
       "    <tr>\n",
       "      <th>1</th>\n",
       "      <td>1</td>\n",
       "      <td>CBL</td>\n",
       "      <td>W802*</td>\n",
       "      <td>2</td>\n",
       "      <td>Abstract Background  Non-small cell lung canc...</td>\n",
       "      <td>5756</td>\n",
       "      <td>Substitution</td>\n",
       "    </tr>\n",
       "    <tr>\n",
       "      <th>2</th>\n",
       "      <td>2</td>\n",
       "      <td>CBL</td>\n",
       "      <td>Q249E</td>\n",
       "      <td>2</td>\n",
       "      <td>Abstract Background  Non-small cell lung canc...</td>\n",
       "      <td>5756</td>\n",
       "      <td>Substitution</td>\n",
       "    </tr>\n",
       "    <tr>\n",
       "      <th>3</th>\n",
       "      <td>3</td>\n",
       "      <td>CBL</td>\n",
       "      <td>N454D</td>\n",
       "      <td>3</td>\n",
       "      <td>Recent evidence has demonstrated that acquired...</td>\n",
       "      <td>5572</td>\n",
       "      <td>Substitution</td>\n",
       "    </tr>\n",
       "    <tr>\n",
       "      <th>4</th>\n",
       "      <td>4</td>\n",
       "      <td>CBL</td>\n",
       "      <td>L399V</td>\n",
       "      <td>4</td>\n",
       "      <td>Oncogenic mutations in the monomeric Casitas B...</td>\n",
       "      <td>6202</td>\n",
       "      <td>Substitution</td>\n",
       "    </tr>\n",
       "  </tbody>\n",
       "</table>\n",
       "</div>"
      ],
      "text/plain": [
       "   ID    Gene             Variation  Class  \\\n",
       "0   0  FAM58A  Truncating Mutations      1   \n",
       "1   1     CBL                 W802*      2   \n",
       "2   2     CBL                 Q249E      2   \n",
       "3   3     CBL                 N454D      3   \n",
       "4   4     CBL                 L399V      4   \n",
       "\n",
       "                                                Text  Word_count  \\\n",
       "0  Cyclin-dependent kinases (CDKs) regulate a var...        6089   \n",
       "1   Abstract Background  Non-small cell lung canc...        5756   \n",
       "2   Abstract Background  Non-small cell lung canc...        5756   \n",
       "3  Recent evidence has demonstrated that acquired...        5572   \n",
       "4  Oncogenic mutations in the monomeric Casitas B...        6202   \n",
       "\n",
       "  Variation_recoded  \n",
       "0        Truncation  \n",
       "1      Substitution  \n",
       "2      Substitution  \n",
       "3      Substitution  \n",
       "4      Substitution  "
      ]
     },
     "execution_count": 16,
     "metadata": {},
     "output_type": "execute_result"
    }
   ],
   "source": [
    "train.head()"
   ]
  },
  {
   "cell_type": "markdown",
   "metadata": {},
   "source": [
    "#### what are the most common variations?"
   ]
  },
  {
   "cell_type": "code",
   "execution_count": 17,
   "metadata": {},
   "outputs": [
    {
     "data": {
      "text/plain": [
       "Substitution      2644\n",
       "Fusion             202\n",
       "Deletion           175\n",
       "Truncation          99\n",
       "Amplification       71\n",
       "Insertion           42\n",
       "InDel               33\n",
       "Duplication         13\n",
       "Overexpression       6\n",
       "X963_splice          1\n",
       "Name: Variation_recoded, dtype: int64"
      ]
     },
     "execution_count": 17,
     "metadata": {},
     "output_type": "execute_result"
    }
   ],
   "source": [
    "train['Variation_recoded'].value_counts().nlargest(10)"
   ]
  },
  {
   "cell_type": "markdown",
   "metadata": {},
   "source": [
    "### subset the data for exploratory data analysis\n",
    "helpful for graphig and when analyzing gene x variants"
   ]
  },
  {
   "cell_type": "code",
   "execution_count": 18,
   "metadata": {
    "collapsed": true
   },
   "outputs": [],
   "source": [
    "variants = ['Substitution', 'Fusion', 'Deletion', 'Truncation', 'Amplification', 'Insertion', 'InDel', 'Duplication']"
   ]
  },
  {
   "cell_type": "code",
   "execution_count": 19,
   "metadata": {
    "collapsed": true
   },
   "outputs": [],
   "source": [
    "eda = train.loc[train['Variation_recoded'].isin(variants)]"
   ]
  },
  {
   "cell_type": "markdown",
   "metadata": {},
   "source": [
    "### Most frequent variations per class"
   ]
  },
  {
   "cell_type": "markdown",
   "metadata": {},
   "source": [
    "#### What is the most frequent variation?"
   ]
  },
  {
   "cell_type": "code",
   "execution_count": 20,
   "metadata": {},
   "outputs": [
    {
     "data": {
      "text/html": [
       "<div>\n",
       "<style>\n",
       "    .dataframe thead tr:only-child th {\n",
       "        text-align: right;\n",
       "    }\n",
       "\n",
       "    .dataframe thead th {\n",
       "        text-align: left;\n",
       "    }\n",
       "\n",
       "    .dataframe tbody tr th {\n",
       "        vertical-align: top;\n",
       "    }\n",
       "</style>\n",
       "<table border=\"1\" class=\"dataframe\">\n",
       "  <thead>\n",
       "    <tr style=\"text-align: right;\">\n",
       "      <th></th>\n",
       "      <th>count</th>\n",
       "      <th>unique</th>\n",
       "      <th>top</th>\n",
       "      <th>freq</th>\n",
       "    </tr>\n",
       "    <tr>\n",
       "      <th>Class</th>\n",
       "      <th></th>\n",
       "      <th></th>\n",
       "      <th></th>\n",
       "      <th></th>\n",
       "    </tr>\n",
       "  </thead>\n",
       "  <tbody>\n",
       "    <tr>\n",
       "      <th>1</th>\n",
       "      <td>568</td>\n",
       "      <td>7</td>\n",
       "      <td>Substitution</td>\n",
       "      <td>402</td>\n",
       "    </tr>\n",
       "    <tr>\n",
       "      <th>2</th>\n",
       "      <td>452</td>\n",
       "      <td>10</td>\n",
       "      <td>Substitution</td>\n",
       "      <td>303</td>\n",
       "    </tr>\n",
       "    <tr>\n",
       "      <th>3</th>\n",
       "      <td>89</td>\n",
       "      <td>2</td>\n",
       "      <td>Substitution</td>\n",
       "      <td>88</td>\n",
       "    </tr>\n",
       "    <tr>\n",
       "      <th>4</th>\n",
       "      <td>686</td>\n",
       "      <td>14</td>\n",
       "      <td>Substitution</td>\n",
       "      <td>628</td>\n",
       "    </tr>\n",
       "    <tr>\n",
       "      <th>5</th>\n",
       "      <td>242</td>\n",
       "      <td>2</td>\n",
       "      <td>Substitution</td>\n",
       "      <td>239</td>\n",
       "    </tr>\n",
       "    <tr>\n",
       "      <th>6</th>\n",
       "      <td>275</td>\n",
       "      <td>5</td>\n",
       "      <td>Substitution</td>\n",
       "      <td>261</td>\n",
       "    </tr>\n",
       "    <tr>\n",
       "      <th>7</th>\n",
       "      <td>953</td>\n",
       "      <td>30</td>\n",
       "      <td>Substitution</td>\n",
       "      <td>674</td>\n",
       "    </tr>\n",
       "    <tr>\n",
       "      <th>8</th>\n",
       "      <td>19</td>\n",
       "      <td>3</td>\n",
       "      <td>Substitution</td>\n",
       "      <td>13</td>\n",
       "    </tr>\n",
       "    <tr>\n",
       "      <th>9</th>\n",
       "      <td>37</td>\n",
       "      <td>2</td>\n",
       "      <td>Substitution</td>\n",
       "      <td>36</td>\n",
       "    </tr>\n",
       "  </tbody>\n",
       "</table>\n",
       "</div>"
      ],
      "text/plain": [
       "      count unique           top freq\n",
       "Class                                \n",
       "1       568      7  Substitution  402\n",
       "2       452     10  Substitution  303\n",
       "3        89      2  Substitution   88\n",
       "4       686     14  Substitution  628\n",
       "5       242      2  Substitution  239\n",
       "6       275      5  Substitution  261\n",
       "7       953     30  Substitution  674\n",
       "8        19      3  Substitution   13\n",
       "9        37      2  Substitution   36"
      ]
     },
     "execution_count": 20,
     "metadata": {},
     "output_type": "execute_result"
    }
   ],
   "source": [
    "train.groupby('Class')['Variation_recoded'].describe()"
   ]
  },
  {
   "cell_type": "code",
   "execution_count": 21,
   "metadata": {},
   "outputs": [
    {
     "data": {
      "image/png": "[encoded data removed]",
      "text/plain": [
       "<matplotlib.figure.Figure at 0x7f0c9ab9dcc0>"
      ]
     },
     "metadata": {},
     "output_type": "display_data"
    }
   ],
   "source": [
    "a = sns.countplot(data=eda, x='Variation_recoded', hue='Class')\n",
    "a.legend(loc=9, bbox_to_anchor=(1.25, 1))\n",
    "a.set_xticklabels(a.get_xticklabels(),rotation=30);"
   ]
  },
  {
   "cell_type": "markdown",
   "metadata": {},
   "source": [
    "##### Aside from substitutions, what are other frequent variations per class?"
   ]
  },
  {
   "cell_type": "code",
   "execution_count": 22,
   "metadata": {
    "scrolled": true
   },
   "outputs": [
    {
     "data": {
      "image/png": "[encoded data removed]",
      "text/plain": [
       "<matplotlib.figure.Figure at 0x7f0c9abd6128>"
      ]
     },
     "metadata": {},
     "output_type": "display_data"
    }
   ],
   "source": [
    "a = sns.countplot(data=eda[eda['Variation_recoded']!='Substitution'], x='Variation_recoded', hue='Class')\n",
    "a.legend(loc=9, bbox_to_anchor=(1.25, 1))\n",
    "a.set_xticklabels(a.get_xticklabels(),rotation=30);"
   ]
  },
  {
   "cell_type": "markdown",
   "metadata": {},
   "source": [
    "# Recoding Substitutions"
   ]
  },
  {
   "cell_type": "code",
   "execution_count": 215,
   "metadata": {
    "collapsed": true
   },
   "outputs": [],
   "source": [
    "#aminoacid: 3code, 1code, charge\n",
    "sub_dict= {'A': 'Neu', #'alanine'\n",
    "           'R': 'Pos', #'arginine'\n",
    "           'N': 'Neu', #'asparagine'\n",
    "           'D': 'Neg', #'aspartic acid'\n",
    "           'B': 'Neu', #'asparagine|aspartic acid'\n",
    "           'C': 'Neu', #'cysteine'\n",
    "           'E': 'Neg', #'glutamic acid'\n",
    "           'Q': 'Neu', #'glutamine'\n",
    "           'Z': 'Neu', #'glutamine|glutamic acid'\n",
    "           'G': 'Neu', #'glycine'\n",
    "           'H': 'Pos', #'histidine'\n",
    "           'I': 'Neu', #'isoleucine'\n",
    "           'L': 'Neu', #'leucine'\n",
    "           'K': 'Pos', #'lysine'\n",
    "           'M': 'Neu', #'methionine'\n",
    "           'F': 'Neu', #'phenylalanine'\n",
    "           'P': 'Neu', #'proline'\n",
    "           'S': 'Neu', #'serine'\n",
    "           'T': 'Neu', #'threonine'\n",
    "           'W': 'Neu', #'tryptophan'\n",
    "           'Y': 'Neu', #'tyrosine'\n",
    "           'V': 'Neu' #'valine',\n",
    "          }"
   ]
  },
  {
   "cell_type": "code",
   "execution_count": 258,
   "metadata": {
    "collapsed": true
   },
   "outputs": [],
   "source": [
    "def sub_recode(data, colname):\n",
    "    recoded_colname = colname + '_recoded'\n",
    "    data['s1'] = data.loc[data[colname].str.match('^[A-Z]\\d+[A-Z]$')][colname].str[:1]\n",
    "    data['s2'] = data.loc[data[colname].str.match('^[A-Z]\\d+[A-Z]$')][colname].str[-1:]\n",
    "    data['s1'].replace(sub_dict, inplace=True)\n",
    "    data['s2'].replace(sub_dict, inplace=True)\n",
    "    data['Sub_type'] = data['s1'] + data['s2']\n",
    "    data.loc[data['Sub_type'].notnull(), recoded_colname] = data['Sub_type']\n",
    "    data.drop(['s1', 's2', 'Sub_type'], axis=1, inplace=True)"
   ]
  },
  {
   "cell_type": "code",
   "execution_count": 259,
   "metadata": {
    "collapsed": true
   },
   "outputs": [],
   "source": [
    "sub_recode(train, 'Variation')"
   ]
  },
  {
   "cell_type": "code",
   "execution_count": 260,
   "metadata": {
    "collapsed": true
   },
   "outputs": [],
   "source": [
    "sub_recode(test, 'Variation')"
   ]
  },
  {
   "cell_type": "code",
   "execution_count": 262,
   "metadata": {},
   "outputs": [
    {
     "data": {
      "text/html": [
       "<div>\n",
       "<style>\n",
       "    .dataframe thead tr:only-child th {\n",
       "        text-align: right;\n",
       "    }\n",
       "\n",
       "    .dataframe thead th {\n",
       "        text-align: left;\n",
       "    }\n",
       "\n",
       "    .dataframe tbody tr th {\n",
       "        vertical-align: top;\n",
       "    }\n",
       "</style>\n",
       "<table border=\"1\" class=\"dataframe\">\n",
       "  <thead>\n",
       "    <tr style=\"text-align: right;\">\n",
       "      <th></th>\n",
       "      <th>ID</th>\n",
       "      <th>Gene</th>\n",
       "      <th>Variation</th>\n",
       "      <th>Text</th>\n",
       "      <th>Word_count</th>\n",
       "      <th>Variation_recoded</th>\n",
       "      <th>TP53</th>\n",
       "      <th>EGFR</th>\n",
       "      <th>BRCA1</th>\n",
       "      <th>BRCA2</th>\n",
       "      <th>PTEN</th>\n",
       "      <th>BCOR</th>\n",
       "      <th>SF3B1</th>\n",
       "    </tr>\n",
       "  </thead>\n",
       "  <tbody>\n",
       "    <tr>\n",
       "      <th>0</th>\n",
       "      <td>0</td>\n",
       "      <td>ACSL4</td>\n",
       "      <td>R570S</td>\n",
       "      <td>2. This mutation resulted in a myeloproliferat...</td>\n",
       "      <td>7417</td>\n",
       "      <td>PosNeu</td>\n",
       "      <td>0.0</td>\n",
       "      <td>0.0</td>\n",
       "      <td>0.0</td>\n",
       "      <td>0.0</td>\n",
       "      <td>0.0</td>\n",
       "      <td>0.0</td>\n",
       "      <td>0.0</td>\n",
       "    </tr>\n",
       "    <tr>\n",
       "      <th>1</th>\n",
       "      <td>1</td>\n",
       "      <td>NAGLU</td>\n",
       "      <td>P521L</td>\n",
       "      <td>Abstract The Large Tumor Suppressor 1 (LATS1)...</td>\n",
       "      <td>4710</td>\n",
       "      <td>NeuNeu</td>\n",
       "      <td>0.0</td>\n",
       "      <td>0.0</td>\n",
       "      <td>0.0</td>\n",
       "      <td>0.0</td>\n",
       "      <td>0.0</td>\n",
       "      <td>0.0</td>\n",
       "      <td>0.0</td>\n",
       "    </tr>\n",
       "    <tr>\n",
       "      <th>2</th>\n",
       "      <td>2</td>\n",
       "      <td>PAH</td>\n",
       "      <td>L333F</td>\n",
       "      <td>Vascular endothelial growth factor receptor (V...</td>\n",
       "      <td>11080</td>\n",
       "      <td>NeuNeu</td>\n",
       "      <td>0.0</td>\n",
       "      <td>0.0</td>\n",
       "      <td>0.0</td>\n",
       "      <td>0.0</td>\n",
       "      <td>0.0</td>\n",
       "      <td>0.0</td>\n",
       "      <td>0.0</td>\n",
       "    </tr>\n",
       "    <tr>\n",
       "      <th>3</th>\n",
       "      <td>3</td>\n",
       "      <td>ING1</td>\n",
       "      <td>A148D</td>\n",
       "      <td>Inflammatory myofibroblastic tumor (IMT) is a ...</td>\n",
       "      <td>8380</td>\n",
       "      <td>NeuNeg</td>\n",
       "      <td>0.0</td>\n",
       "      <td>0.0</td>\n",
       "      <td>0.0</td>\n",
       "      <td>0.0</td>\n",
       "      <td>0.0</td>\n",
       "      <td>0.0</td>\n",
       "      <td>0.0</td>\n",
       "    </tr>\n",
       "    <tr>\n",
       "      <th>4</th>\n",
       "      <td>4</td>\n",
       "      <td>TMEM216</td>\n",
       "      <td>G77A</td>\n",
       "      <td>Abstract Retinoblastoma is a pediatric retina...</td>\n",
       "      <td>11159</td>\n",
       "      <td>NeuNeu</td>\n",
       "      <td>0.0</td>\n",
       "      <td>0.0</td>\n",
       "      <td>0.0</td>\n",
       "      <td>0.0</td>\n",
       "      <td>0.0</td>\n",
       "      <td>0.0</td>\n",
       "      <td>0.0</td>\n",
       "    </tr>\n",
       "  </tbody>\n",
       "</table>\n",
       "</div>"
      ],
      "text/plain": [
       "   ID     Gene Variation                                               Text  \\\n",
       "0   0    ACSL4     R570S  2. This mutation resulted in a myeloproliferat...   \n",
       "1   1    NAGLU     P521L   Abstract The Large Tumor Suppressor 1 (LATS1)...   \n",
       "2   2      PAH     L333F  Vascular endothelial growth factor receptor (V...   \n",
       "3   3     ING1     A148D  Inflammatory myofibroblastic tumor (IMT) is a ...   \n",
       "4   4  TMEM216      G77A   Abstract Retinoblastoma is a pediatric retina...   \n",
       "\n",
       "   Word_count Variation_recoded  TP53  EGFR  BRCA1  BRCA2  PTEN  BCOR  SF3B1  \n",
       "0        7417            PosNeu   0.0   0.0    0.0    0.0   0.0   0.0    0.0  \n",
       "1        4710            NeuNeu   0.0   0.0    0.0    0.0   0.0   0.0    0.0  \n",
       "2       11080            NeuNeu   0.0   0.0    0.0    0.0   0.0   0.0    0.0  \n",
       "3        8380            NeuNeg   0.0   0.0    0.0    0.0   0.0   0.0    0.0  \n",
       "4       11159            NeuNeu   0.0   0.0    0.0    0.0   0.0   0.0    0.0  "
      ]
     },
     "execution_count": 262,
     "metadata": {},
     "output_type": "execute_result"
    }
   ],
   "source": [
    "test.head()"
   ]
  },
  {
   "cell_type": "markdown",
   "metadata": {},
   "source": [
    "# Genes"
   ]
  },
  {
   "cell_type": "markdown",
   "metadata": {},
   "source": [
    "### calculate various measures of gene frequency per class"
   ]
  },
  {
   "cell_type": "markdown",
   "metadata": {},
   "source": [
    "quick function to calculate gene frequency for a groupping variable\n",
    "1) count of unique genes + Median word count to relate gene frequency with a crude text variable\n",
    "2) total number of genes per group (similar to group frequency)\n",
    "3) most frequent gene in each group\n",
    "4) proportional frequency of gene accounting for size of group\n",
    "5) reset index for easier plotting"
   ]
  },
  {
   "cell_type": "code",
   "execution_count": 210,
   "metadata": {
    "collapsed": true
   },
   "outputs": [],
   "source": [
    "def genefreq(data, group):\n",
    "    newdf = data.groupby(group).agg({'Gene': pd.Series.nunique, 'Word_count': np.median})\n",
    "    newdf['Gene_total'] = data.groupby(group)['Gene'].count()\n",
    "    newdf['Gene_most_frequent'] = data.groupby(group)['Gene'].agg(lambda x: x.value_counts().idxmax())\n",
    "    newdf['Gene_most_frequent_count'] = data.groupby(group)['Gene'].agg(lambda x: x.value_counts().max())\n",
    "    newdf['Gene_p_unique'] = newdf['Gene']/newdf['Gene_total']\n",
    "    newdf['Gene_p_most_frequent'] = newdf['Gene_most_frequent_count']/var_grp['Gene_total']\n",
    "    newdf.reset_index(inplace=True)\n",
    "    return newdf"
   ]
  },
  {
   "cell_type": "code",
   "execution_count": 211,
   "metadata": {
    "collapsed": true
   },
   "outputs": [],
   "source": [
    "class_grp = genefreq(train, 'Class')"
   ]
  },
  {
   "cell_type": "markdown",
   "metadata": {},
   "source": [
    "### Which genes are the most frequent in each class?"
   ]
  },
  {
   "cell_type": "code",
   "execution_count": 212,
   "metadata": {},
   "outputs": [
    {
     "data": {
      "text/html": [
       "<div>\n",
       "<style>\n",
       "    .dataframe thead tr:only-child th {\n",
       "        text-align: right;\n",
       "    }\n",
       "\n",
       "    .dataframe thead th {\n",
       "        text-align: left;\n",
       "    }\n",
       "\n",
       "    .dataframe tbody tr th {\n",
       "        vertical-align: top;\n",
       "    }\n",
       "</style>\n",
       "<table border=\"1\" class=\"dataframe\">\n",
       "  <thead>\n",
       "    <tr style=\"text-align: right;\">\n",
       "      <th></th>\n",
       "      <th>Class</th>\n",
       "      <th>Gene</th>\n",
       "      <th>Word_count</th>\n",
       "      <th>Gene_total</th>\n",
       "      <th>Gene_most_frequent</th>\n",
       "      <th>Gene_most_frequent_count</th>\n",
       "      <th>Gene_p_unique</th>\n",
       "      <th>Gene_p_most_frequent</th>\n",
       "    </tr>\n",
       "  </thead>\n",
       "  <tbody>\n",
       "    <tr>\n",
       "      <th>0</th>\n",
       "      <td>1</td>\n",
       "      <td>142</td>\n",
       "      <td>7305</td>\n",
       "      <td>568</td>\n",
       "      <td>TP53</td>\n",
       "      <td>83</td>\n",
       "      <td>0.250000</td>\n",
       "      <td>83.000000</td>\n",
       "    </tr>\n",
       "    <tr>\n",
       "      <th>1</th>\n",
       "      <td>2</td>\n",
       "      <td>96</td>\n",
       "      <td>6810</td>\n",
       "      <td>452</td>\n",
       "      <td>EGFR</td>\n",
       "      <td>45</td>\n",
       "      <td>0.212389</td>\n",
       "      <td>45.000000</td>\n",
       "    </tr>\n",
       "    <tr>\n",
       "      <th>2</th>\n",
       "      <td>3</td>\n",
       "      <td>26</td>\n",
       "      <td>5572</td>\n",
       "      <td>89</td>\n",
       "      <td>BRCA1</td>\n",
       "      <td>15</td>\n",
       "      <td>0.292135</td>\n",
       "      <td>15.000000</td>\n",
       "    </tr>\n",
       "    <tr>\n",
       "      <th>3</th>\n",
       "      <td>4</td>\n",
       "      <td>92</td>\n",
       "      <td>6351</td>\n",
       "      <td>686</td>\n",
       "      <td>PTEN</td>\n",
       "      <td>115</td>\n",
       "      <td>0.134111</td>\n",
       "      <td>115.000000</td>\n",
       "    </tr>\n",
       "    <tr>\n",
       "      <th>4</th>\n",
       "      <td>5</td>\n",
       "      <td>48</td>\n",
       "      <td>6463</td>\n",
       "      <td>242</td>\n",
       "      <td>BRCA1</td>\n",
       "      <td>90</td>\n",
       "      <td>0.198347</td>\n",
       "      <td>90.000000</td>\n",
       "    </tr>\n",
       "    <tr>\n",
       "      <th>5</th>\n",
       "      <td>6</td>\n",
       "      <td>56</td>\n",
       "      <td>6587</td>\n",
       "      <td>275</td>\n",
       "      <td>BRCA2</td>\n",
       "      <td>84</td>\n",
       "      <td>0.203636</td>\n",
       "      <td>1.183099</td>\n",
       "    </tr>\n",
       "    <tr>\n",
       "      <th>6</th>\n",
       "      <td>7</td>\n",
       "      <td>108</td>\n",
       "      <td>8254</td>\n",
       "      <td>953</td>\n",
       "      <td>EGFR</td>\n",
       "      <td>84</td>\n",
       "      <td>0.113326</td>\n",
       "      <td>84.000000</td>\n",
       "    </tr>\n",
       "    <tr>\n",
       "      <th>7</th>\n",
       "      <td>8</td>\n",
       "      <td>12</td>\n",
       "      <td>11253</td>\n",
       "      <td>19</td>\n",
       "      <td>BCOR</td>\n",
       "      <td>4</td>\n",
       "      <td>0.631579</td>\n",
       "      <td>4.000000</td>\n",
       "    </tr>\n",
       "    <tr>\n",
       "      <th>8</th>\n",
       "      <td>9</td>\n",
       "      <td>10</td>\n",
       "      <td>10930</td>\n",
       "      <td>37</td>\n",
       "      <td>SF3B1</td>\n",
       "      <td>15</td>\n",
       "      <td>0.270270</td>\n",
       "      <td>15.000000</td>\n",
       "    </tr>\n",
       "  </tbody>\n",
       "</table>\n",
       "</div>"
      ],
      "text/plain": [
       "   Class  Gene  Word_count  Gene_total Gene_most_frequent  \\\n",
       "0      1   142        7305         568               TP53   \n",
       "1      2    96        6810         452               EGFR   \n",
       "2      3    26        5572          89              BRCA1   \n",
       "3      4    92        6351         686               PTEN   \n",
       "4      5    48        6463         242              BRCA1   \n",
       "5      6    56        6587         275              BRCA2   \n",
       "6      7   108        8254         953               EGFR   \n",
       "7      8    12       11253          19               BCOR   \n",
       "8      9    10       10930          37              SF3B1   \n",
       "\n",
       "   Gene_most_frequent_count  Gene_p_unique  Gene_p_most_frequent  \n",
       "0                        83       0.250000             83.000000  \n",
       "1                        45       0.212389             45.000000  \n",
       "2                        15       0.292135             15.000000  \n",
       "3                       115       0.134111            115.000000  \n",
       "4                        90       0.198347             90.000000  \n",
       "5                        84       0.203636              1.183099  \n",
       "6                        84       0.113326             84.000000  \n",
       "7                         4       0.631579              4.000000  \n",
       "8                        15       0.270270             15.000000  "
      ]
     },
     "execution_count": 212,
     "metadata": {},
     "output_type": "execute_result"
    }
   ],
   "source": [
    "class_grp"
   ]
  },
  {
   "cell_type": "code",
   "execution_count": 31,
   "metadata": {},
   "outputs": [
    {
     "data": {
      "image/png": "[encoded data removed]",
      "text/plain": [
       "<matplotlib.figure.Figure at 0x7f0c9aa9c550>"
      ]
     },
     "metadata": {},
     "output_type": "display_data"
    }
   ],
   "source": [
    "a = sns.swarmplot(y=\"Gene_p_most_frequent\", x=\"Gene_most_frequent\", hue='Class', data=class_grp, size=10)\n",
    "a.legend(loc=9, bbox_to_anchor=(1.25, 1))\n",
    "a.set_xticklabels(a.get_xticklabels(),rotation=30);"
   ]
  },
  {
   "cell_type": "markdown",
   "metadata": {},
   "source": [
    "#### do the classes differ by the number (p) of unique genes associated with them?"
   ]
  },
  {
   "cell_type": "code",
   "execution_count": 32,
   "metadata": {},
   "outputs": [
    {
     "data": {
      "text/plain": [
       "<matplotlib.axes._subplots.AxesSubplot at 0x7f0c9a74fcf8>"
      ]
     },
     "execution_count": 32,
     "metadata": {},
     "output_type": "execute_result"
    },
    {
     "data": {
      "image/png": "[encoded data removed]",
      "text/plain": [
       "<matplotlib.figure.Figure at 0x7f0c9a613550>"
      ]
     },
     "metadata": {},
     "output_type": "display_data"
    }
   ],
   "source": [
    "sns.swarmplot(y=\"Gene_p_unique\", x=\"Class\", data=class_grp, size=10)"
   ]
  },
  {
   "cell_type": "code",
   "execution_count": 33,
   "metadata": {},
   "outputs": [
    {
     "data": {
      "text/plain": [
       "<seaborn.axisgrid.JointGrid at 0x7f0c9a678668>"
      ]
     },
     "execution_count": 33,
     "metadata": {},
     "output_type": "execute_result"
    },
    {
     "data": {
      "image/png": "[encoded data removed]",
      "text/plain": [
       "<matplotlib.figure.Figure at 0x7f0c9a678e80>"
      ]
     },
     "metadata": {},
     "output_type": "display_data"
    }
   ],
   "source": [
    "sns.jointplot(\"Gene_p_unique\", \"Gene_p_most_frequent\",data=class_grp)"
   ]
  },
  {
   "cell_type": "code",
   "execution_count": 34,
   "metadata": {},
   "outputs": [
    {
     "data": {
      "text/plain": [
       "<seaborn.axisgrid.JointGrid at 0x7f0c9a51b4e0>"
      ]
     },
     "execution_count": 34,
     "metadata": {},
     "output_type": "execute_result"
    },
    {
     "data": {
      "image/png": "[encoded data removed]",
      "text/plain": [
       "<matplotlib.figure.Figure at 0x7f0c9a51b908>"
      ]
     },
     "metadata": {},
     "output_type": "display_data"
    }
   ],
   "source": [
    "sns.jointplot(\"Word_count\", \"Gene_p_most_frequent\",data=class_grp)"
   ]
  },
  {
   "cell_type": "markdown",
   "metadata": {},
   "source": [
    "### Most frequent genes per class and variant type\n",
    "looking only at the most common mutations by their generic terms"
   ]
  },
  {
   "cell_type": "code",
   "execution_count": 147,
   "metadata": {
    "collapsed": true
   },
   "outputs": [],
   "source": [
    "grp = genefreq(train, ['Class', 'Variation_recoded'])"
   ]
  },
  {
   "cell_type": "code",
   "execution_count": 149,
   "metadata": {},
   "outputs": [
    {
     "data": {
      "text/html": [
       "<div>\n",
       "<style>\n",
       "    .dataframe thead tr:only-child th {\n",
       "        text-align: right;\n",
       "    }\n",
       "\n",
       "    .dataframe thead th {\n",
       "        text-align: left;\n",
       "    }\n",
       "\n",
       "    .dataframe tbody tr th {\n",
       "        vertical-align: top;\n",
       "    }\n",
       "</style>\n",
       "<table border=\"1\" class=\"dataframe\">\n",
       "  <thead>\n",
       "    <tr style=\"text-align: right;\">\n",
       "      <th></th>\n",
       "      <th>Class</th>\n",
       "      <th>Variation_recoded</th>\n",
       "      <th>Gene</th>\n",
       "      <th>Word_count</th>\n",
       "      <th>Gene_total</th>\n",
       "      <th>Gene_most_frequent</th>\n",
       "      <th>Gene_most_frequent_count</th>\n",
       "      <th>Gene_p_unique</th>\n",
       "      <th>Gene_p_most_frequent</th>\n",
       "    </tr>\n",
       "  </thead>\n",
       "  <tbody>\n",
       "    <tr>\n",
       "      <th>0</th>\n",
       "      <td>1</td>\n",
       "      <td>596_619splice</td>\n",
       "      <td>1</td>\n",
       "      <td>184.0</td>\n",
       "      <td>1</td>\n",
       "      <td>HLA-A</td>\n",
       "      <td>1</td>\n",
       "      <td>1.000000</td>\n",
       "      <td>1.000000</td>\n",
       "    </tr>\n",
       "    <tr>\n",
       "      <th>1</th>\n",
       "      <td>1</td>\n",
       "      <td>Deletion</td>\n",
       "      <td>59</td>\n",
       "      <td>12149.0</td>\n",
       "      <td>62</td>\n",
       "      <td>PIK3R1</td>\n",
       "      <td>2</td>\n",
       "      <td>0.951613</td>\n",
       "      <td>0.011429</td>\n",
       "    </tr>\n",
       "    <tr>\n",
       "      <th>2</th>\n",
       "      <td>1</td>\n",
       "      <td>Fusion</td>\n",
       "      <td>8</td>\n",
       "      <td>4753.5</td>\n",
       "      <td>10</td>\n",
       "      <td>ERCC2</td>\n",
       "      <td>2</td>\n",
       "      <td>0.800000</td>\n",
       "      <td>0.009901</td>\n",
       "    </tr>\n",
       "    <tr>\n",
       "      <th>3</th>\n",
       "      <td>1</td>\n",
       "      <td>Insertion</td>\n",
       "      <td>1</td>\n",
       "      <td>5158.0</td>\n",
       "      <td>1</td>\n",
       "      <td>AR</td>\n",
       "      <td>1</td>\n",
       "      <td>1.000000</td>\n",
       "      <td>0.023810</td>\n",
       "    </tr>\n",
       "    <tr>\n",
       "      <th>4</th>\n",
       "      <td>1</td>\n",
       "      <td>Substitution</td>\n",
       "      <td>72</td>\n",
       "      <td>6239.5</td>\n",
       "      <td>402</td>\n",
       "      <td>TP53</td>\n",
       "      <td>82</td>\n",
       "      <td>0.179104</td>\n",
       "      <td>0.031014</td>\n",
       "    </tr>\n",
       "  </tbody>\n",
       "</table>\n",
       "</div>"
      ],
      "text/plain": [
       "   Class Variation_recoded  Gene  Word_count  Gene_total Gene_most_frequent  \\\n",
       "0      1     596_619splice     1       184.0           1              HLA-A   \n",
       "1      1          Deletion    59     12149.0          62             PIK3R1   \n",
       "2      1            Fusion     8      4753.5          10              ERCC2   \n",
       "3      1         Insertion     1      5158.0           1                 AR   \n",
       "4      1      Substitution    72      6239.5         402               TP53   \n",
       "\n",
       "   Gene_most_frequent_count  Gene_p_unique  Gene_p_most_frequent  \n",
       "0                         1       1.000000              1.000000  \n",
       "1                         2       0.951613              0.011429  \n",
       "2                         2       0.800000              0.009901  \n",
       "3                         1       1.000000              0.023810  \n",
       "4                        82       0.179104              0.031014  "
      ]
     },
     "execution_count": 149,
     "metadata": {},
     "output_type": "execute_result"
    }
   ],
   "source": [
    "grp.head()"
   ]
  },
  {
   "cell_type": "markdown",
   "metadata": {},
   "source": [
    "#### Proportional frequency of the most common gene by class and variant"
   ]
  },
  {
   "cell_type": "code",
   "execution_count": 43,
   "metadata": {},
   "outputs": [
    {
     "data": {
      "image/png": "[encoded data removed]",
      "text/plain": [
       "<matplotlib.figure.Figure at 0x7f0c9ac03438>"
      ]
     },
     "metadata": {},
     "output_type": "display_data"
    }
   ],
   "source": [
    "a = sns.swarmplot(x=\"Variation_recoded\", y=\"Gene_p_most_frequent\", hue='Class', data=grp, size=10)\n",
    "a.legend(loc=9, bbox_to_anchor=(1.25, 1))\n",
    "a.set_xticklabels(a.get_xticklabels(),rotation=30);"
   ]
  },
  {
   "cell_type": "markdown",
   "metadata": {},
   "source": [
    "#### Proportional frequency of unique genes  by class and variant"
   ]
  },
  {
   "cell_type": "code",
   "execution_count": 44,
   "metadata": {},
   "outputs": [
    {
     "data": {
      "image/png": "[encoded data removed]",
      "text/plain": [
       "<matplotlib.figure.Figure at 0x7f0c9aa51f98>"
      ]
     },
     "metadata": {},
     "output_type": "display_data"
    }
   ],
   "source": [
    "a = sns.swarmplot(x=\"Variation_recoded\", y=\"Gene_p_unique\", hue='Class', data=grp,size=10)\n",
    "a.legend(loc=9, bbox_to_anchor=(1.25, 1))\n",
    "a.set_xticklabels(a.get_xticklabels(),rotation=30);"
   ]
  },
  {
   "cell_type": "markdown",
   "metadata": {},
   "source": [
    "#### does there seem to be any relation w/ word count?"
   ]
  },
  {
   "cell_type": "code",
   "execution_count": 45,
   "metadata": {},
   "outputs": [
    {
     "data": {
      "image/png": "[encoded data removed]",
      "text/plain": [
       "<matplotlib.figure.Figure at 0x7f0c9a663e48>"
      ]
     },
     "metadata": {},
     "output_type": "display_data"
    }
   ],
   "source": [
    "a = sns.swarmplot(x=\"Variation_recoded\", y=\"Word_count\", hue='Class', data=grp,size=10)\n",
    "a.legend(loc=9, bbox_to_anchor=(1.25, 1))\n",
    "a.set_xticklabels(a.get_xticklabels(),rotation=30);"
   ]
  },
  {
   "cell_type": "markdown",
   "metadata": {},
   "source": [
    "#### birds-eye view of relationship between frequencies"
   ]
  },
  {
   "cell_type": "code",
   "execution_count": null,
   "metadata": {
    "collapsed": true
   },
   "outputs": [],
   "source": [
    "sns.pairplot(class_grp, hue='Class')"
   ]
  },
  {
   "cell_type": "markdown",
   "metadata": {},
   "source": [
    "# discuss in group"
   ]
  },
  {
   "cell_type": "markdown",
   "metadata": {},
   "source": [
    "### 1) is gene 'KIT' a real value?\n",
    "looks like class 2 has many of those"
   ]
  },
  {
   "cell_type": "code",
   "execution_count": 46,
   "metadata": {},
   "outputs": [
    {
     "data": {
      "text/html": [
       "<div>\n",
       "<style>\n",
       "    .dataframe thead tr:only-child th {\n",
       "        text-align: right;\n",
       "    }\n",
       "\n",
       "    .dataframe thead th {\n",
       "        text-align: left;\n",
       "    }\n",
       "\n",
       "    .dataframe tbody tr th {\n",
       "        vertical-align: top;\n",
       "    }\n",
       "</style>\n",
       "<table border=\"1\" class=\"dataframe\">\n",
       "  <thead>\n",
       "    <tr style=\"text-align: right;\">\n",
       "      <th></th>\n",
       "      <th>Class</th>\n",
       "      <th>Variation_recoded</th>\n",
       "      <th>Gene</th>\n",
       "      <th>Word_count</th>\n",
       "      <th>Gene_total</th>\n",
       "      <th>Gene_most_frequent</th>\n",
       "      <th>Gene_most_frequent_count</th>\n",
       "      <th>Gene_p_unique</th>\n",
       "      <th>Gene_p_most_frequent</th>\n",
       "    </tr>\n",
       "  </thead>\n",
       "  <tbody>\n",
       "    <tr>\n",
       "      <th>5</th>\n",
       "      <td>2</td>\n",
       "      <td>Amplification</td>\n",
       "      <td>21</td>\n",
       "      <td>12174.0</td>\n",
       "      <td>21</td>\n",
       "      <td>CCND2</td>\n",
       "      <td>1</td>\n",
       "      <td>1.000000</td>\n",
       "      <td>0.047619</td>\n",
       "    </tr>\n",
       "    <tr>\n",
       "      <th>6</th>\n",
       "      <td>2</td>\n",
       "      <td>Deletion</td>\n",
       "      <td>7</td>\n",
       "      <td>8294.0</td>\n",
       "      <td>30</td>\n",
       "      <td>KIT</td>\n",
       "      <td>15</td>\n",
       "      <td>0.233333</td>\n",
       "      <td>0.500000</td>\n",
       "    </tr>\n",
       "    <tr>\n",
       "      <th>7</th>\n",
       "      <td>2</td>\n",
       "      <td>Fusion</td>\n",
       "      <td>34</td>\n",
       "      <td>6810.0</td>\n",
       "      <td>80</td>\n",
       "      <td>PDGFRB</td>\n",
       "      <td>14</td>\n",
       "      <td>0.425000</td>\n",
       "      <td>0.175000</td>\n",
       "    </tr>\n",
       "    <tr>\n",
       "      <th>8</th>\n",
       "      <td>2</td>\n",
       "      <td>InDel</td>\n",
       "      <td>3</td>\n",
       "      <td>5124.5</td>\n",
       "      <td>8</td>\n",
       "      <td>KIT</td>\n",
       "      <td>4</td>\n",
       "      <td>0.375000</td>\n",
       "      <td>0.500000</td>\n",
       "    </tr>\n",
       "    <tr>\n",
       "      <th>9</th>\n",
       "      <td>2</td>\n",
       "      <td>Insertion</td>\n",
       "      <td>2</td>\n",
       "      <td>4470.0</td>\n",
       "      <td>3</td>\n",
       "      <td>KIT</td>\n",
       "      <td>2</td>\n",
       "      <td>0.666667</td>\n",
       "      <td>0.666667</td>\n",
       "    </tr>\n",
       "    <tr>\n",
       "      <th>10</th>\n",
       "      <td>2</td>\n",
       "      <td>Substitution</td>\n",
       "      <td>61</td>\n",
       "      <td>6538.0</td>\n",
       "      <td>303</td>\n",
       "      <td>EGFR</td>\n",
       "      <td>41</td>\n",
       "      <td>0.201320</td>\n",
       "      <td>0.135314</td>\n",
       "    </tr>\n",
       "    <tr>\n",
       "      <th>11</th>\n",
       "      <td>2</td>\n",
       "      <td>Truncation</td>\n",
       "      <td>3</td>\n",
       "      <td>14406.0</td>\n",
       "      <td>3</td>\n",
       "      <td>CCND1</td>\n",
       "      <td>1</td>\n",
       "      <td>1.000000</td>\n",
       "      <td>0.333333</td>\n",
       "    </tr>\n",
       "  </tbody>\n",
       "</table>\n",
       "</div>"
      ],
      "text/plain": [
       "    Class Variation_recoded  Gene  Word_count  Gene_total Gene_most_frequent  \\\n",
       "5       2     Amplification    21     12174.0          21              CCND2   \n",
       "6       2          Deletion     7      8294.0          30                KIT   \n",
       "7       2            Fusion    34      6810.0          80             PDGFRB   \n",
       "8       2             InDel     3      5124.5           8                KIT   \n",
       "9       2         Insertion     2      4470.0           3                KIT   \n",
       "10      2      Substitution    61      6538.0         303               EGFR   \n",
       "11      2        Truncation     3     14406.0           3              CCND1   \n",
       "\n",
       "    Gene_most_frequent_count  Gene_p_unique  Gene_p_most_frequent  \n",
       "5                          1       1.000000              0.047619  \n",
       "6                         15       0.233333              0.500000  \n",
       "7                         14       0.425000              0.175000  \n",
       "8                          4       0.375000              0.500000  \n",
       "9                          2       0.666667              0.666667  \n",
       "10                        41       0.201320              0.135314  \n",
       "11                         1       1.000000              0.333333  "
      ]
     },
     "execution_count": 46,
     "metadata": {},
     "output_type": "execute_result"
    }
   ],
   "source": [
    "grp.loc[grp['Class']==2]"
   ]
  },
  {
   "cell_type": "markdown",
   "metadata": {},
   "source": [
    "### 2) which features to include?\n",
    "based on eda, it looks like classes vary most by their most frequent genes and their proportional frequency.\n",
    "variation type might be additionally helpful to distinguish between couple of classes, but it would be sufficient to have the recoded variation column in addition to the common genes as dummy variables (e.g., entries get a 1 or 0 if they contain the specific gene)."
   ]
  },
  {
   "cell_type": "markdown",
   "metadata": {},
   "source": [
    "Convert most frequent genes into dummy variables:\n",
    "    - TP53\n",
    "    - EGFR\n",
    "    - BRCA1\n",
    "    - BRCA2\n",
    "    - PTEN\n",
    "    - BCOR\n",
    "    - SF3B1"
   ]
  },
  {
   "cell_type": "markdown",
   "metadata": {},
   "source": [
    "### Create dummy variables w the most common genes"
   ]
  },
  {
   "cell_type": "code",
   "execution_count": 48,
   "metadata": {
    "collapsed": true
   },
   "outputs": [],
   "source": [
    "top_genes = ['TP53', 'EGFR', 'BRCA1', 'BRCA2', 'PTEN', 'BCOR', 'SF3B1']"
   ]
  },
  {
   "cell_type": "code",
   "execution_count": 49,
   "metadata": {
    "collapsed": true
   },
   "outputs": [],
   "source": [
    "def gene_dummy(data, top_genes):\n",
    "    for gene in top_genes:\n",
    "        data.loc[data['Gene'].notnull(), gene] = 0\n",
    "        data.loc[data['Gene']==gene, gene] = 1"
   ]
  },
  {
   "cell_type": "code",
   "execution_count": 50,
   "metadata": {
    "collapsed": true
   },
   "outputs": [],
   "source": [
    "gene_dummy(train, top_genes)"
   ]
  },
  {
   "cell_type": "markdown",
   "metadata": {},
   "source": [
    "it worked! I checked all new variables"
   ]
  },
  {
   "cell_type": "code",
   "execution_count": 64,
   "metadata": {},
   "outputs": [
    {
     "data": {
      "text/html": [
       "<div>\n",
       "<style>\n",
       "    .dataframe thead tr:only-child th {\n",
       "        text-align: right;\n",
       "    }\n",
       "\n",
       "    .dataframe thead th {\n",
       "        text-align: left;\n",
       "    }\n",
       "\n",
       "    .dataframe tbody tr th {\n",
       "        vertical-align: top;\n",
       "    }\n",
       "</style>\n",
       "<table border=\"1\" class=\"dataframe\">\n",
       "  <thead>\n",
       "    <tr style=\"text-align: right;\">\n",
       "      <th></th>\n",
       "      <th>ID</th>\n",
       "      <th>Gene</th>\n",
       "      <th>Variation</th>\n",
       "      <th>Class</th>\n",
       "      <th>Text</th>\n",
       "      <th>Word_count</th>\n",
       "      <th>Variation_recoded</th>\n",
       "      <th>TP53</th>\n",
       "      <th>EGFR</th>\n",
       "      <th>BRCA1</th>\n",
       "      <th>BRCA2</th>\n",
       "      <th>PTEN</th>\n",
       "      <th>BCOR</th>\n",
       "      <th>SF3B1</th>\n",
       "    </tr>\n",
       "  </thead>\n",
       "  <tbody>\n",
       "    <tr>\n",
       "      <th>121</th>\n",
       "      <td>121</td>\n",
       "      <td>SF3B1</td>\n",
       "      <td>K700R</td>\n",
       "      <td>8</td>\n",
       "      <td>The RNA maturation is an important and complex...</td>\n",
       "      <td>20626</td>\n",
       "      <td>Substitution</td>\n",
       "      <td>0.0</td>\n",
       "      <td>0.0</td>\n",
       "      <td>0.0</td>\n",
       "      <td>0.0</td>\n",
       "      <td>0.0</td>\n",
       "      <td>0.0</td>\n",
       "      <td>1.0</td>\n",
       "    </tr>\n",
       "    <tr>\n",
       "      <th>122</th>\n",
       "      <td>122</td>\n",
       "      <td>SF3B1</td>\n",
       "      <td>R625C</td>\n",
       "      <td>9</td>\n",
       "      <td>The RNA maturation is an important and complex...</td>\n",
       "      <td>11497</td>\n",
       "      <td>Substitution</td>\n",
       "      <td>0.0</td>\n",
       "      <td>0.0</td>\n",
       "      <td>0.0</td>\n",
       "      <td>0.0</td>\n",
       "      <td>0.0</td>\n",
       "      <td>0.0</td>\n",
       "      <td>1.0</td>\n",
       "    </tr>\n",
       "    <tr>\n",
       "      <th>123</th>\n",
       "      <td>123</td>\n",
       "      <td>SF3B1</td>\n",
       "      <td>E622D</td>\n",
       "      <td>9</td>\n",
       "      <td>The splicing factor SF3B1 is the most commonly...</td>\n",
       "      <td>10930</td>\n",
       "      <td>Substitution</td>\n",
       "      <td>0.0</td>\n",
       "      <td>0.0</td>\n",
       "      <td>0.0</td>\n",
       "      <td>0.0</td>\n",
       "      <td>0.0</td>\n",
       "      <td>0.0</td>\n",
       "      <td>1.0</td>\n",
       "    </tr>\n",
       "    <tr>\n",
       "      <th>124</th>\n",
       "      <td>124</td>\n",
       "      <td>SF3B1</td>\n",
       "      <td>H662Q</td>\n",
       "      <td>9</td>\n",
       "      <td>The splicing factor SF3B1 is the most commonly...</td>\n",
       "      <td>10930</td>\n",
       "      <td>Substitution</td>\n",
       "      <td>0.0</td>\n",
       "      <td>0.0</td>\n",
       "      <td>0.0</td>\n",
       "      <td>0.0</td>\n",
       "      <td>0.0</td>\n",
       "      <td>0.0</td>\n",
       "      <td>1.0</td>\n",
       "    </tr>\n",
       "    <tr>\n",
       "      <th>125</th>\n",
       "      <td>125</td>\n",
       "      <td>SF3B1</td>\n",
       "      <td>R625D</td>\n",
       "      <td>9</td>\n",
       "      <td>The RNA maturation is an important and complex...</td>\n",
       "      <td>1147</td>\n",
       "      <td>Substitution</td>\n",
       "      <td>0.0</td>\n",
       "      <td>0.0</td>\n",
       "      <td>0.0</td>\n",
       "      <td>0.0</td>\n",
       "      <td>0.0</td>\n",
       "      <td>0.0</td>\n",
       "      <td>1.0</td>\n",
       "    </tr>\n",
       "  </tbody>\n",
       "</table>\n",
       "</div>"
      ],
      "text/plain": [
       "      ID   Gene Variation  Class  \\\n",
       "121  121  SF3B1     K700R      8   \n",
       "122  122  SF3B1     R625C      9   \n",
       "123  123  SF3B1     E622D      9   \n",
       "124  124  SF3B1     H662Q      9   \n",
       "125  125  SF3B1     R625D      9   \n",
       "\n",
       "                                                  Text  Word_count  \\\n",
       "121  The RNA maturation is an important and complex...       20626   \n",
       "122  The RNA maturation is an important and complex...       11497   \n",
       "123  The splicing factor SF3B1 is the most commonly...       10930   \n",
       "124  The splicing factor SF3B1 is the most commonly...       10930   \n",
       "125  The RNA maturation is an important and complex...        1147   \n",
       "\n",
       "    Variation_recoded  TP53  EGFR  BRCA1  BRCA2  PTEN  BCOR  SF3B1  \n",
       "121      Substitution   0.0   0.0    0.0    0.0   0.0   0.0    1.0  \n",
       "122      Substitution   0.0   0.0    0.0    0.0   0.0   0.0    1.0  \n",
       "123      Substitution   0.0   0.0    0.0    0.0   0.0   0.0    1.0  \n",
       "124      Substitution   0.0   0.0    0.0    0.0   0.0   0.0    1.0  \n",
       "125      Substitution   0.0   0.0    0.0    0.0   0.0   0.0    1.0  "
      ]
     },
     "execution_count": 64,
     "metadata": {},
     "output_type": "execute_result"
    }
   ],
   "source": [
    "train.loc[train['SF3B1']==1].head()"
   ]
  },
  {
   "cell_type": "markdown",
   "metadata": {},
   "source": [
    "# preproces the test dataset"
   ]
  },
  {
   "cell_type": "markdown",
   "metadata": {},
   "source": [
    "read and files"
   ]
  },
  {
   "cell_type": "code",
   "execution_count": 73,
   "metadata": {
    "collapsed": true
   },
   "outputs": [],
   "source": [
    "test_v = pd.read_csv('/home/bunge/bguerra/Desktop/git/cdips/test_variants/test_variants')"
   ]
  },
  {
   "cell_type": "code",
   "execution_count": 74,
   "metadata": {
    "collapsed": true
   },
   "outputs": [],
   "source": [
    "test_t = pd.read_csv('/home/bunge/bguerra/Desktop/git/cdips/test_text/test_text', sep='\\|\\|',skiprows=1, engine='python', names=[\"ID\",\"Text\"])"
   ]
  },
  {
   "cell_type": "code",
   "execution_count": 75,
   "metadata": {
    "collapsed": true
   },
   "outputs": [],
   "source": [
    "test = test_v.merge(test_t, how=\"inner\", left_on=\"ID\", right_on=\"ID\")"
   ]
  },
  {
   "cell_type": "markdown",
   "metadata": {},
   "source": [
    "Preprocess: word count and  recode variations"
   ]
  },
  {
   "cell_type": "code",
   "execution_count": 76,
   "metadata": {
    "collapsed": true
   },
   "outputs": [],
   "source": [
    "test.loc[:, 'Word_count']  = test[\"Text\"].apply(lambda x: len(x.split()))"
   ]
  },
  {
   "cell_type": "code",
   "execution_count": 200,
   "metadata": {
    "collapsed": true
   },
   "outputs": [],
   "source": [
    "var_recode(test, 'Variation')"
   ]
  },
  {
   "cell_type": "code",
   "execution_count": 254,
   "metadata": {
    "collapsed": true
   },
   "outputs": [],
   "source": [
    "sub_recode(test, 'Variation')"
   ]
  },
  {
   "cell_type": "code",
   "execution_count": 78,
   "metadata": {
    "collapsed": true
   },
   "outputs": [],
   "source": [
    "gene_dummy(test, top_genes)"
   ]
  },
  {
   "cell_type": "code",
   "execution_count": 257,
   "metadata": {},
   "outputs": [
    {
     "data": {
      "text/html": [
       "<div>\n",
       "<style>\n",
       "    .dataframe thead tr:only-child th {\n",
       "        text-align: right;\n",
       "    }\n",
       "\n",
       "    .dataframe thead th {\n",
       "        text-align: left;\n",
       "    }\n",
       "\n",
       "    .dataframe tbody tr th {\n",
       "        vertical-align: top;\n",
       "    }\n",
       "</style>\n",
       "<table border=\"1\" class=\"dataframe\">\n",
       "  <thead>\n",
       "    <tr style=\"text-align: right;\">\n",
       "      <th></th>\n",
       "      <th>ID</th>\n",
       "      <th>Gene</th>\n",
       "      <th>Variation</th>\n",
       "      <th>Class</th>\n",
       "      <th>Text</th>\n",
       "      <th>Word_count</th>\n",
       "      <th>Variation_recoded</th>\n",
       "      <th>TP53</th>\n",
       "      <th>EGFR</th>\n",
       "      <th>BRCA1</th>\n",
       "      <th>BRCA2</th>\n",
       "      <th>PTEN</th>\n",
       "      <th>BCOR</th>\n",
       "      <th>SF3B1</th>\n",
       "      <th>Sub_type</th>\n",
       "    </tr>\n",
       "  </thead>\n",
       "  <tbody>\n",
       "    <tr>\n",
       "      <th>0</th>\n",
       "      <td>0</td>\n",
       "      <td>FAM58A</td>\n",
       "      <td>Truncating Mutations</td>\n",
       "      <td>1</td>\n",
       "      <td>Cyclin-dependent kinases (CDKs) regulate a var...</td>\n",
       "      <td>6089</td>\n",
       "      <td>Truncation</td>\n",
       "      <td>0.0</td>\n",
       "      <td>0.0</td>\n",
       "      <td>0.0</td>\n",
       "      <td>0.0</td>\n",
       "      <td>0.0</td>\n",
       "      <td>0.0</td>\n",
       "      <td>0.0</td>\n",
       "      <td>NaN</td>\n",
       "    </tr>\n",
       "    <tr>\n",
       "      <th>1</th>\n",
       "      <td>1</td>\n",
       "      <td>CBL</td>\n",
       "      <td>W802*</td>\n",
       "      <td>2</td>\n",
       "      <td>Abstract Background  Non-small cell lung canc...</td>\n",
       "      <td>5756</td>\n",
       "      <td>Substitution</td>\n",
       "      <td>0.0</td>\n",
       "      <td>0.0</td>\n",
       "      <td>0.0</td>\n",
       "      <td>0.0</td>\n",
       "      <td>0.0</td>\n",
       "      <td>0.0</td>\n",
       "      <td>0.0</td>\n",
       "      <td>NaN</td>\n",
       "    </tr>\n",
       "    <tr>\n",
       "      <th>2</th>\n",
       "      <td>2</td>\n",
       "      <td>CBL</td>\n",
       "      <td>Q249E</td>\n",
       "      <td>2</td>\n",
       "      <td>Abstract Background  Non-small cell lung canc...</td>\n",
       "      <td>5756</td>\n",
       "      <td>Substitution</td>\n",
       "      <td>0.0</td>\n",
       "      <td>0.0</td>\n",
       "      <td>0.0</td>\n",
       "      <td>0.0</td>\n",
       "      <td>0.0</td>\n",
       "      <td>0.0</td>\n",
       "      <td>0.0</td>\n",
       "      <td>NeuNeg</td>\n",
       "    </tr>\n",
       "    <tr>\n",
       "      <th>3</th>\n",
       "      <td>3</td>\n",
       "      <td>CBL</td>\n",
       "      <td>N454D</td>\n",
       "      <td>3</td>\n",
       "      <td>Recent evidence has demonstrated that acquired...</td>\n",
       "      <td>5572</td>\n",
       "      <td>Substitution</td>\n",
       "      <td>0.0</td>\n",
       "      <td>0.0</td>\n",
       "      <td>0.0</td>\n",
       "      <td>0.0</td>\n",
       "      <td>0.0</td>\n",
       "      <td>0.0</td>\n",
       "      <td>0.0</td>\n",
       "      <td>NeuNeg</td>\n",
       "    </tr>\n",
       "    <tr>\n",
       "      <th>4</th>\n",
       "      <td>4</td>\n",
       "      <td>CBL</td>\n",
       "      <td>L399V</td>\n",
       "      <td>4</td>\n",
       "      <td>Oncogenic mutations in the monomeric Casitas B...</td>\n",
       "      <td>6202</td>\n",
       "      <td>Substitution</td>\n",
       "      <td>0.0</td>\n",
       "      <td>0.0</td>\n",
       "      <td>0.0</td>\n",
       "      <td>0.0</td>\n",
       "      <td>0.0</td>\n",
       "      <td>0.0</td>\n",
       "      <td>0.0</td>\n",
       "      <td>NeuNeu</td>\n",
       "    </tr>\n",
       "  </tbody>\n",
       "</table>\n",
       "</div>"
      ],
      "text/plain": [
       "   ID    Gene             Variation  Class  \\\n",
       "0   0  FAM58A  Truncating Mutations      1   \n",
       "1   1     CBL                 W802*      2   \n",
       "2   2     CBL                 Q249E      2   \n",
       "3   3     CBL                 N454D      3   \n",
       "4   4     CBL                 L399V      4   \n",
       "\n",
       "                                                Text  Word_count  \\\n",
       "0  Cyclin-dependent kinases (CDKs) regulate a var...        6089   \n",
       "1   Abstract Background  Non-small cell lung canc...        5756   \n",
       "2   Abstract Background  Non-small cell lung canc...        5756   \n",
       "3  Recent evidence has demonstrated that acquired...        5572   \n",
       "4  Oncogenic mutations in the monomeric Casitas B...        6202   \n",
       "\n",
       "  Variation_recoded  TP53  EGFR  BRCA1  BRCA2  PTEN  BCOR  SF3B1 Sub_type  \n",
       "0        Truncation   0.0   0.0    0.0    0.0   0.0   0.0    0.0      NaN  \n",
       "1      Substitution   0.0   0.0    0.0    0.0   0.0   0.0    0.0      NaN  \n",
       "2      Substitution   0.0   0.0    0.0    0.0   0.0   0.0    0.0   NeuNeg  \n",
       "3      Substitution   0.0   0.0    0.0    0.0   0.0   0.0    0.0   NeuNeg  \n",
       "4      Substitution   0.0   0.0    0.0    0.0   0.0   0.0    0.0   NeuNeu  "
      ]
     },
     "execution_count": 257,
     "metadata": {},
     "output_type": "execute_result"
    }
   ],
   "source": [
    "train.head()"
   ]
  },
  {
   "cell_type": "markdown",
   "metadata": {},
   "source": [
    "merge with group's"
   ]
  },
  {
   "cell_type": "code",
   "execution_count": 263,
   "metadata": {
    "collapsed": true
   },
   "outputs": [],
   "source": [
    "test.to_csv('/home/bunge/bguerra/Desktop/git/cdips/test_bg.csv')"
   ]
  },
  {
   "cell_type": "code",
   "execution_count": 264,
   "metadata": {
    "collapsed": true
   },
   "outputs": [],
   "source": [
    "train.to_csv('/home/bunge/bguerra/Desktop/git/cdips/train_bg.csv')"
   ]
  },
  {
   "cell_type": "markdown",
   "metadata": {},
   "source": [
    "# EDA with test data"
   ]
  },
  {
   "cell_type": "code",
   "execution_count": 202,
   "metadata": {},
   "outputs": [
    {
     "data": {
      "text/plain": [
       "Substitution                      5581\n",
       "Deletion                            24\n",
       "Truncation                          19\n",
       "Fusion                              17\n",
       "Amplification                        8\n",
       "Insertion                            8\n",
       "InDel                                6\n",
       "Duplication                          3\n",
       "Single Nucleotide Polymorphism       1\n",
       "X1006_splice                         1\n",
       "Name: Variation_recoded, dtype: int64"
      ]
     },
     "execution_count": 202,
     "metadata": {},
     "output_type": "execute_result"
    }
   ],
   "source": [
    "test['Variation_recoded'].value_counts().nlargest(10)"
   ]
  },
  {
   "cell_type": "markdown",
   "metadata": {},
   "source": [
    "Substitutions are 99% of the variants in the test dataset vs. 80% in the train data"
   ]
  },
  {
   "cell_type": "code",
   "execution_count": 203,
   "metadata": {},
   "outputs": [
    {
     "data": {
      "text/plain": [
       "0.9846506704304869"
      ]
     },
     "execution_count": 203,
     "metadata": {},
     "output_type": "execute_result"
    }
   ],
   "source": [
    "5581/5668"
   ]
  },
  {
   "cell_type": "code",
   "execution_count": 89,
   "metadata": {},
   "outputs": [
    {
     "data": {
      "text/plain": [
       "0.7961457392351702"
      ]
     },
     "execution_count": 89,
     "metadata": {},
     "output_type": "execute_result"
    }
   ],
   "source": [
    "2644/3321"
   ]
  },
  {
   "cell_type": "code",
   "execution_count": 150,
   "metadata": {
    "collapsed": true
   },
   "outputs": [],
   "source": [
    "test_grp = genefreq(test, 'Variation_recoded')"
   ]
  },
  {
   "cell_type": "code",
   "execution_count": 157,
   "metadata": {},
   "outputs": [
    {
     "data": {
      "text/html": [
       "<div>\n",
       "<style>\n",
       "    .dataframe thead tr:only-child th {\n",
       "        text-align: right;\n",
       "    }\n",
       "\n",
       "    .dataframe thead th {\n",
       "        text-align: left;\n",
       "    }\n",
       "\n",
       "    .dataframe tbody tr th {\n",
       "        vertical-align: top;\n",
       "    }\n",
       "</style>\n",
       "<table border=\"1\" class=\"dataframe\">\n",
       "  <thead>\n",
       "    <tr style=\"text-align: right;\">\n",
       "      <th></th>\n",
       "      <th>Variation_recoded</th>\n",
       "      <th>Gene</th>\n",
       "      <th>Word_count</th>\n",
       "      <th>Gene_total</th>\n",
       "      <th>Gene_most_frequent</th>\n",
       "      <th>Gene_most_frequent_count</th>\n",
       "      <th>Gene_p_unique</th>\n",
       "      <th>Gene_p_most_frequent</th>\n",
       "    </tr>\n",
       "  </thead>\n",
       "  <tbody>\n",
       "    <tr>\n",
       "      <th>0</th>\n",
       "      <td>Amplification</td>\n",
       "      <td>8</td>\n",
       "      <td>9778.0</td>\n",
       "      <td>8</td>\n",
       "      <td>AURKB</td>\n",
       "      <td>1</td>\n",
       "      <td>1.000000</td>\n",
       "      <td>0.014085</td>\n",
       "    </tr>\n",
       "    <tr>\n",
       "      <th>1</th>\n",
       "      <td>Deletion</td>\n",
       "      <td>21</td>\n",
       "      <td>12969.0</td>\n",
       "      <td>24</td>\n",
       "      <td>KIT</td>\n",
       "      <td>4</td>\n",
       "      <td>0.875000</td>\n",
       "      <td>0.022857</td>\n",
       "    </tr>\n",
       "    <tr>\n",
       "      <th>2</th>\n",
       "      <td>Duplication</td>\n",
       "      <td>3</td>\n",
       "      <td>4910.0</td>\n",
       "      <td>3</td>\n",
       "      <td>EGFR</td>\n",
       "      <td>1</td>\n",
       "      <td>1.000000</td>\n",
       "      <td>0.076923</td>\n",
       "    </tr>\n",
       "    <tr>\n",
       "      <th>3</th>\n",
       "      <td>Fusion</td>\n",
       "      <td>14</td>\n",
       "      <td>6110.0</td>\n",
       "      <td>17</td>\n",
       "      <td>PDGFRA</td>\n",
       "      <td>3</td>\n",
       "      <td>0.823529</td>\n",
       "      <td>0.014851</td>\n",
       "    </tr>\n",
       "    <tr>\n",
       "      <th>4</th>\n",
       "      <td>InDel</td>\n",
       "      <td>4</td>\n",
       "      <td>7323.5</td>\n",
       "      <td>6</td>\n",
       "      <td>BRAF</td>\n",
       "      <td>2</td>\n",
       "      <td>0.666667</td>\n",
       "      <td>0.060606</td>\n",
       "    </tr>\n",
       "    <tr>\n",
       "      <th>5</th>\n",
       "      <td>Insertion</td>\n",
       "      <td>4</td>\n",
       "      <td>14829.0</td>\n",
       "      <td>8</td>\n",
       "      <td>EGFR</td>\n",
       "      <td>3</td>\n",
       "      <td>0.500000</td>\n",
       "      <td>0.071429</td>\n",
       "    </tr>\n",
       "    <tr>\n",
       "      <th>7</th>\n",
       "      <td>Substitution</td>\n",
       "      <td>1365</td>\n",
       "      <td>8338.0</td>\n",
       "      <td>5562</td>\n",
       "      <td>F8</td>\n",
       "      <td>134</td>\n",
       "      <td>0.245415</td>\n",
       "      <td>0.050681</td>\n",
       "    </tr>\n",
       "    <tr>\n",
       "      <th>8</th>\n",
       "      <td>Truncation</td>\n",
       "      <td>19</td>\n",
       "      <td>13385.0</td>\n",
       "      <td>19</td>\n",
       "      <td>TET2</td>\n",
       "      <td>1</td>\n",
       "      <td>1.000000</td>\n",
       "      <td>0.010101</td>\n",
       "    </tr>\n",
       "  </tbody>\n",
       "</table>\n",
       "</div>"
      ],
      "text/plain": [
       "  Variation_recoded  Gene  Word_count  Gene_total Gene_most_frequent  \\\n",
       "0     Amplification     8      9778.0           8              AURKB   \n",
       "1          Deletion    21     12969.0          24                KIT   \n",
       "2       Duplication     3      4910.0           3               EGFR   \n",
       "3            Fusion    14      6110.0          17             PDGFRA   \n",
       "4             InDel     4      7323.5           6               BRAF   \n",
       "5         Insertion     4     14829.0           8               EGFR   \n",
       "7      Substitution  1365      8338.0        5562                 F8   \n",
       "8        Truncation    19     13385.0          19               TET2   \n",
       "\n",
       "   Gene_most_frequent_count  Gene_p_unique  Gene_p_most_frequent  \n",
       "0                         1       1.000000              0.014085  \n",
       "1                         4       0.875000              0.022857  \n",
       "2                         1       1.000000              0.076923  \n",
       "3                         3       0.823529              0.014851  \n",
       "4                         2       0.666667              0.060606  \n",
       "5                         3       0.500000              0.071429  \n",
       "7                       134       0.245415              0.050681  \n",
       "8                         1       1.000000              0.010101  "
      ]
     },
     "execution_count": 157,
     "metadata": {},
     "output_type": "execute_result"
    }
   ],
   "source": [
    "test_grp.loc[test_grp['Variation_recoded'].isin(variants)]"
   ]
  },
  {
   "cell_type": "code",
   "execution_count": 153,
   "metadata": {
    "collapsed": true
   },
   "outputs": [],
   "source": [
    "var_grp = genefreq(train, 'Variation_recoded')"
   ]
  },
  {
   "cell_type": "code",
   "execution_count": 156,
   "metadata": {},
   "outputs": [
    {
     "data": {
      "text/html": [
       "<div>\n",
       "<style>\n",
       "    .dataframe thead tr:only-child th {\n",
       "        text-align: right;\n",
       "    }\n",
       "\n",
       "    .dataframe thead th {\n",
       "        text-align: left;\n",
       "    }\n",
       "\n",
       "    .dataframe tbody tr th {\n",
       "        vertical-align: top;\n",
       "    }\n",
       "</style>\n",
       "<table border=\"1\" class=\"dataframe\">\n",
       "  <thead>\n",
       "    <tr style=\"text-align: right;\">\n",
       "      <th></th>\n",
       "      <th>Variation_recoded</th>\n",
       "      <th>Gene</th>\n",
       "      <th>Word_count</th>\n",
       "      <th>Gene_total</th>\n",
       "      <th>Gene_most_frequent</th>\n",
       "      <th>Gene_most_frequent_count</th>\n",
       "      <th>Gene_p_unique</th>\n",
       "      <th>Gene_p_most_frequent</th>\n",
       "    </tr>\n",
       "  </thead>\n",
       "  <tbody>\n",
       "    <tr>\n",
       "      <th>6</th>\n",
       "      <td>Amplification</td>\n",
       "      <td>71</td>\n",
       "      <td>13847.0</td>\n",
       "      <td>71</td>\n",
       "      <td>CDK8</td>\n",
       "      <td>1</td>\n",
       "      <td>1.000000</td>\n",
       "      <td>0.014085</td>\n",
       "    </tr>\n",
       "    <tr>\n",
       "      <th>12</th>\n",
       "      <td>Deletion</td>\n",
       "      <td>99</td>\n",
       "      <td>9650.0</td>\n",
       "      <td>175</td>\n",
       "      <td>KIT</td>\n",
       "      <td>30</td>\n",
       "      <td>0.565714</td>\n",
       "      <td>0.171429</td>\n",
       "    </tr>\n",
       "    <tr>\n",
       "      <th>13</th>\n",
       "      <td>Duplication</td>\n",
       "      <td>7</td>\n",
       "      <td>16427.0</td>\n",
       "      <td>13</td>\n",
       "      <td>EGFR</td>\n",
       "      <td>5</td>\n",
       "      <td>0.538462</td>\n",
       "      <td>0.384615</td>\n",
       "    </tr>\n",
       "    <tr>\n",
       "      <th>23</th>\n",
       "      <td>Fusion</td>\n",
       "      <td>56</td>\n",
       "      <td>6647.5</td>\n",
       "      <td>202</td>\n",
       "      <td>PDGFRB</td>\n",
       "      <td>18</td>\n",
       "      <td>0.277228</td>\n",
       "      <td>0.089109</td>\n",
       "    </tr>\n",
       "    <tr>\n",
       "      <th>24</th>\n",
       "      <td>InDel</td>\n",
       "      <td>9</td>\n",
       "      <td>8294.0</td>\n",
       "      <td>33</td>\n",
       "      <td>EGFR</td>\n",
       "      <td>13</td>\n",
       "      <td>0.272727</td>\n",
       "      <td>0.393939</td>\n",
       "    </tr>\n",
       "    <tr>\n",
       "      <th>25</th>\n",
       "      <td>Insertion</td>\n",
       "      <td>11</td>\n",
       "      <td>11094.0</td>\n",
       "      <td>42</td>\n",
       "      <td>FLT3</td>\n",
       "      <td>13</td>\n",
       "      <td>0.261905</td>\n",
       "      <td>0.309524</td>\n",
       "    </tr>\n",
       "    <tr>\n",
       "      <th>32</th>\n",
       "      <td>Substitution</td>\n",
       "      <td>183</td>\n",
       "      <td>6542.0</td>\n",
       "      <td>2644</td>\n",
       "      <td>BRCA1</td>\n",
       "      <td>258</td>\n",
       "      <td>0.069213</td>\n",
       "      <td>0.097579</td>\n",
       "    </tr>\n",
       "    <tr>\n",
       "      <th>35</th>\n",
       "      <td>Truncation</td>\n",
       "      <td>96</td>\n",
       "      <td>13794.0</td>\n",
       "      <td>99</td>\n",
       "      <td>NOTCH2</td>\n",
       "      <td>2</td>\n",
       "      <td>0.969697</td>\n",
       "      <td>0.020202</td>\n",
       "    </tr>\n",
       "  </tbody>\n",
       "</table>\n",
       "</div>"
      ],
      "text/plain": [
       "   Variation_recoded  Gene  Word_count  Gene_total Gene_most_frequent  \\\n",
       "6      Amplification    71     13847.0          71               CDK8   \n",
       "12          Deletion    99      9650.0         175                KIT   \n",
       "13       Duplication     7     16427.0          13               EGFR   \n",
       "23            Fusion    56      6647.5         202             PDGFRB   \n",
       "24             InDel     9      8294.0          33               EGFR   \n",
       "25         Insertion    11     11094.0          42               FLT3   \n",
       "32      Substitution   183      6542.0        2644              BRCA1   \n",
       "35        Truncation    96     13794.0          99             NOTCH2   \n",
       "\n",
       "    Gene_most_frequent_count  Gene_p_unique  Gene_p_most_frequent  \n",
       "6                          1       1.000000              0.014085  \n",
       "12                        30       0.565714              0.171429  \n",
       "13                         5       0.538462              0.384615  \n",
       "23                        18       0.277228              0.089109  \n",
       "24                        13       0.272727              0.393939  \n",
       "25                        13       0.261905              0.309524  \n",
       "32                       258       0.069213              0.097579  \n",
       "35                         2       0.969697              0.020202  "
      ]
     },
     "execution_count": 156,
     "metadata": {},
     "output_type": "execute_result"
    }
   ],
   "source": [
    "var_grp.loc[var_grp['Variation_recoded'].isin(variants)]"
   ]
  }
 ],
 "metadata": {
  "kernelspec": {
   "display_name": "Python 3",
   "language": "python",
   "name": "python3"
  },
  "language_info": {
   "codemirror_mode": {
    "name": "ipython",
    "version": 3
   },
   "file_extension": ".py",
   "mimetype": "text/x-python",
   "name": "python",
   "nbconvert_exporter": "python",
   "pygments_lexer": "ipython3",
   "version": "3.6.1"
  }
 },
 "nbformat": 4,
 "nbformat_minor": 2
}
